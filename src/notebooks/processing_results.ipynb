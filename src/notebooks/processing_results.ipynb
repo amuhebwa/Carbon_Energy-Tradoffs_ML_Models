{
 "cells": [
  {
   "cell_type": "code",
   "execution_count": 1,
   "id": "81a52013-ec48-4696-b338-24f399917bc9",
   "metadata": {},
   "outputs": [],
   "source": [
    "import os\n",
    "import glob\n",
    "import seaborn as sns\n",
    "import pandas as pd"
   ]
  },
  {
   "cell_type": "code",
   "execution_count": 2,
   "id": "10403bd1-b486-4c80-83cc-542cdf1137b5",
   "metadata": {},
   "outputs": [],
   "source": [
    "all_paths = \"/Users/amuhebwa/Documents/Stanford/Research_Code/CarbonMeasure_Responsibility/src/results/carbon_tracker\"\n",
    "all_files = glob.glob(f'{all_paths}/*.csv')\n",
    "all_dfs = []\n",
    "for fpath in all_files:\n",
    "    temp_df = pd.read_csv(fpath)\n",
    "    full_model_name = fpath.split('/').pop().split('.')[0][:-20].strip()\n",
    "    temp_df['full_model_name'] = full_model_name\n",
    "    temp_df = temp_df[['full_model_name', 'duration', 'emissions', 'emissions_rate', 'energy_consumed', 'gpu_energy']]\n",
    "    all_dfs.append(temp_df)\n",
    "combined_df = pd.concat(all_dfs)\n",
    "combined_df = combined_df.sort_values(by=['energy_consumed'], ascending=False).reset_index(drop=True)\n",
    "combined_df = combined_df.drop_duplicates(subset=['full_model_name']).reset_index(drop=True)"
   ]
  },
  {
   "cell_type": "code",
   "execution_count": null,
   "id": "698fb3f0-bf97-4cc2-8f81-243eabe42998",
   "metadata": {},
   "outputs": [],
   "source": []
  },
  {
   "cell_type": "code",
   "execution_count": 4,
   "id": "59aa452e-b8c2-410e-85c9-871c447b31ab",
   "metadata": {},
   "outputs": [],
   "source": [
    "metrics_path = \"/Users/amuhebwa/Documents/Stanford/Research_Code/CarbonMeasure_Responsibility/src/results/metrics\"\n",
    "metrics_files = glob.glob(f\"{metrics_path}/*.csv\")\n",
    "all_dfs = []\n",
    "for fpath in metrics_files:\n",
    "    temp_df = pd.read_csv(fpath)\n",
    "    full_model_name = fpath.split('/').pop().split('.')[0][:-8].strip()\n",
    "    temp_df['full_model_name'] = full_model_name\n",
    "    temp_df['model_size'] = 'Small' if \"small\" in full_model_name.split('_') else 'Tiny'\n",
    "    temp_df['model_id'] = temp_df.iloc[0, :]['model_name'].split('_')[0]\n",
    "    all_dfs.append(temp_df)\n",
    "combined_metrics = pd.concat(all_dfs).reset_index(drop=True)"
   ]
  },
  {
   "cell_type": "code",
   "execution_count": null,
   "id": "f9f5dfdf-3d59-4b8d-b057-e6ad9e1cea50",
   "metadata": {},
   "outputs": [],
   "source": []
  },
  {
   "cell_type": "code",
   "execution_count": null,
   "id": "31b47416-859f-4ec2-97b3-6960cd78d002",
   "metadata": {},
   "outputs": [],
   "source": []
  },
  {
   "cell_type": "code",
   "execution_count": 5,
   "id": "55a3c273-f601-4b94-940b-cfdbbbb976fd",
   "metadata": {},
   "outputs": [],
   "source": [
    "final_df = pd.merge(combined_df, combined_metrics, on=['full_model_name'])\n",
    "final_df =  final_df.sort_values(by=['energy_consumed'], ascending=False).reset_index(drop=True)\n",
    "final_df.to_csv('/Users/amuhebwa/Documents/Stanford/Research_Code/CarbonMeasure_Responsibility/src/results/merged_metrics.csv', index=False)"
   ]
  },
  {
   "cell_type": "code",
   "execution_count": null,
   "id": "215dd0c7-bec4-4bb2-ba19-6646216408c7",
   "metadata": {},
   "outputs": [],
   "source": []
  },
  {
   "cell_type": "code",
   "execution_count": null,
   "id": "c59277c5-53b0-4ccb-8081-b6dffd119184",
   "metadata": {},
   "outputs": [],
   "source": []
  },
  {
   "cell_type": "code",
   "execution_count": null,
   "id": "cfe09ae9-9247-42e0-b2bd-e4e8bdaaab32",
   "metadata": {},
   "outputs": [],
   "source": []
  },
  {
   "cell_type": "code",
   "execution_count": null,
   "id": "753632c2-765c-4fad-b608-9d0ebe3f57e0",
   "metadata": {},
   "outputs": [],
   "source": []
  }
 ],
 "metadata": {
  "kernelspec": {
   "display_name": "Python 3 (ipykernel)",
   "language": "python",
   "name": "python3"
  },
  "language_info": {
   "codemirror_mode": {
    "name": "ipython",
    "version": 3
   },
   "file_extension": ".py",
   "mimetype": "text/x-python",
   "name": "python",
   "nbconvert_exporter": "python",
   "pygments_lexer": "ipython3",
   "version": "3.8.18"
  }
 },
 "nbformat": 4,
 "nbformat_minor": 5
}
